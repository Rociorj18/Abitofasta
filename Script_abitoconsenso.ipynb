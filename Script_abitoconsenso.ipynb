{
  "cells": [
    {
      "cell_type": "markdown",
      "metadata": {
        "id": "view-in-github",
        "colab_type": "text"
      },
      "source": [
        "<a href=\"https://colab.research.google.com/github/Rociorj18/Abitofasta/blob/main/Script_abitoconsenso.ipynb\" target=\"_parent\"><img src=\"https://colab.research.google.com/assets/colab-badge.svg\" alt=\"Open In Colab\"/></a>"
      ]
    },
    {
      "cell_type": "markdown",
      "metadata": {
        "id": "gc7T5IJJ7o9W"
      },
      "source": [
        "# AB1 -> FASTQ -> ALINEAMIENTO"
      ]
    },
    {
      "cell_type": "markdown",
      "metadata": {
        "id": "ONFTYN0n7C_B"
      },
      "source": [
        "Este script tiene como objeto coger los archivos ab1 que nos mandan de la secuenciación y pasarlo a fastq (nos permite ver la calidad de la posicion de las diferentes bases). Tras esto, la secuencia reverse la convierte en la reverse complement y genera un alineamiento por pares entre secuencias que se llamen igual, es decir, al forward y la reverse complement.\n",
        "\n",
        "- **INPUT** :\n",
        "  \n",
        "  (1) `LOS ARCHIVOS AB1` : DEBES METER UN NUMERO PAR DE SECUENCIAS PORQUE VAN PAREADAS REVERSE Y FORWARD\n",
        "- **OUTPUT** :\n",
        "**(1) `ALINEAMIENTO` : DONDE ESTA LA FORWARD Y LA REVERSE*\n",
        "**(2) `CONSENSO`: SOLA GENERADA A PARTIR DE FORWARD Y REVERSE*\n",
        "**(3) `CONSENSUS` CON TODAS LAS CONSENSO DE LA CARPETA*"
      ]
    },
    {
      "cell_type": "code",
      "execution_count": null,
      "metadata": {
        "id": "hTxUD_pvycM5"
      },
      "outputs": [],
      "source": [
        "# instalar libreria biopython\n",
        "!pip install biopython"
      ]
    },
    {
      "cell_type": "code",
      "execution_count": null,
      "metadata": {
        "colab": {
          "base_uri": "https://localhost:8080/",
          "height": 222
        },
        "id": "Bmoe9XfzypP7",
        "outputId": "422a17cd-1d32-4bb4-ab05-d7a6bc002521"
      },
      "outputs": [
        {
          "name": "stderr",
          "output_type": "stream",
          "text": [
            "/usr/local/lib/python3.10/dist-packages/Bio/pairwise2.py:278: BiopythonDeprecationWarning: Bio.pairwise2 has been deprecated, and we intend to remove it in a future release of Biopython. As an alternative, please consider using Bio.Align.PairwiseAligner as a replacement, and contact the Biopython developers if you still need the Bio.pairwise2 module.\n",
            "  warnings.warn(\n"
          ]
        },
        {
          "name": "stdout",
          "output_type": "stream",
          "text": [
            ">21077_Premix\n",
            "--------ACAAAGTTTCAGATGACTGGGTAACGTACAGTACTTTTGTGTTTACGA---GAAC-CAAGATTT-CCAGAT-GGACGGGGTA--GAGAAAGGTTCTTGTGTATTTGCGCAAACCATTATTTAATATTAGAATCGGAAAAATCAGCCCG-GCCGGCTTACTAATGGGATGCCCTAATACATTTGAAAATTTCGCTTTAGCCAATGACGCTATCCTTGGACTAACTGGAACAAGGGTGTCGAACTTTCTTATAGAATTATTGTTTAGAAATTCTTGTGCTAGAATTTGAGTCCGTAACCCCAAAAGGACTCGTCGGAACGCTTGAAAGATAGCCCAAAAAATCAAGGAAATTGTGGGCTAATTGGTTTATATAAATCCTTTTTGGATGAAACCACAGAGAAAAGTGCCATTGCCAAAAAGTGACAAGGTAACATTTCCATTTATTCATCAAAAGAGACGTCCCTTTTGAAGCCAGAATGGATGTTCTTTGATACCTAACATAATGCATGCAAGGTTCTTTGACCAACCATGGATTCGCCTGAAAATCCTTAACCTTAACAAAGACGTTCACAAGACGTTCTATTTTTATATAGAAATAGATTCGTTCAAGAAGAACTCCAGAAGATGTTGATCGTAAAT--GAGAAGATTGGTTACATAGAAAGACGAAAATGGATTCATATTCACATACATGAGAATTATATAAGAATAAGAATAATCTTTGATTTTTTTTTGAAAAATGGAAACTGGCTTTCTTTGAAATAATAAGACTATTCCAATTACAATACTCGTTCAGAAAGAATCGTAATAAATGCAAAGAACAGGCTTCTTTTACCCAATAGGAAAAAGATTTATACAAGAATTCCAGATGGACTGGGTAAAAGAAATACCACCATCCTACGTTTTATGATTTGACGTTTACTTGATGTACTAGATACATCCCATTATTCTGATATTGACCCTTTGTATTTATTGCTGAAGCAATAATAAATGGTGTTTGAACAGAGTAGTTGTGTGTGTATAGTGTGGAAGTGGGGTGCGCCTGAGGTGACAGGTGGAGTTAGTGAGAGGTATGAGTGTATATGGTGAGTGATGATTAGTAGTGGTGGGGAGTGAGGTTGATAGGTTGTTTGTATGTAGGTGGGTGAGGTGGGGAGACTGGGAAAAGGGGACTGGATAAGTATATGGGTATTTGTGTTGTAGTCGGGGGGAGTGGGGGCGTGTTGTAGTTGTGTGGTGTGGTCACGGTGGATGGAGAGGTTGTGGGTTGAGCGCTGTCGGAAGTGGACTGGGATTGGCGCAGGATTAGTTTATCGTGAGGAGTGTGTTGTAGGGGGGGTCACTGA\n",
            ">21077_KIMR_Premix reverse_complement\n",
            "TGTTTCGAGCTAAATTTCTGCACAC---GAAAGTCGCAGTA--TATACTTTATCGATATAAACTCTTTTTTTGAAAGATCCGCTATGATAATGAGAAAGATTTCGGGATATATGC-CAAATCGGTCAAT-ATATTAGAATCGGATAAATCAGCCCGACCCGGCTTACTAATGGGATGCCCTAATACGTTACAAAATTTCGCTTTAGCCAATGACGCAATCATTGGACTAATTGGAACAAGGGTATCGAACTTCTTAATAGAATTATTGATTAGAAATGAATTTTCTAGAATTTG-CTCCGT-ACCACTGAAGGATTCATTCGTACGCTTGAAAGATAGCCCAAAAAATCAAGGAAATTGTGGGCTAATTGGTTTATATAAATCCTTTTTGGATGAAACCACAGAGAAAAGTGCCATTGCCAAAAAGTGACAAGGTAACATTTCCATTTATTCATCAAAAGAGACGTCCCTTTTGAAGCCAGAATGGATGTTCTTTGATACCTAACATAATGCATGCAAGGTTCTTTGACCAACCATGGATTCGCCTGAAAATCCTTAACCTTAACAAAGACGTTCACAAGACGTTCTATTTTTATATAGAAATAGATTCGTTCAAGAAGAACTCCAGAAGA--TTACCCGGCCATTCGGGAATTCTGGGTTCAAACAAAGAGGAAAAGGGTTTAAGATTCCCGTTCTTGAGAATTATATAAGAATAAGAATAATCTTTGATTTTATTGTGAAAAATGGAAACTGGCTTTCTTTGAAATGATAAGACTATCACAA--ACAGACCTAGTTTAGACGGAATC------------------------CT-------------------AGTTAT----------CTGATGGACTGGG--------------------------------------------------------------------ATTC-------------------TTA---------CACTA-------------------------------------------------------------------------------------------------------------------------------------------------------TAG--------------------------------CT--ATAAGT-------------------------------------------------------------------------------------------------------------------------------------------------------------------G\n",
            "\n",
            "[6, 5, 8, 9, 8, 3, 4, 4, 5, 5, 10, 11, 6, 6, 6, 5, 5, 18, 35, 14, 9, 6, 10, 7, 4, 6, 9, 31, 22, 14, 37, 34, 22, 22, 32, 27, 12, 12, 12, 20, 26, 23, 20, 20, 16, 17, 14, 13, 10, 10, 7, 16, 10, 8, 8, 10, 12, 9, 14, 10, 20, 14, 14, 20, 13, 8, 10, 10, 20, 10, 8, 20, 12, 8, 10, 41, 8, 8, 21, 8, 24, 15, 22, 12, 11, 11, 8, 13, 12, 20, 12, 12, 13, 13, 21, 23, 43, 8, 25, 12, 13, 11, 24, 18, 11, 24, 13, 8, 8, 13, 10, 11, 14, 10, 17, 13, 13, 21, 21, 13, 18, 14, 24, 12, 9, 13, 13, 8, 8, 8, 8, 6, 12, 12, 8, 17, 17, 13, 20, 12, 13, 12, 11, 19, 8, 8, 14, 14, 16, 10, 9, 11, 8, 8, 8, 8, 19, 24, 10, 19, 12, 8, 8, 16, 8, 11, 10, 12, 10, 11, 11, 20, 8, 8, 8, 8, 10, 32, 32, 20, 12, 10, 13, 19, 13, 15, 9, 21, 8, 8, 10, 8, 8, 20, 10, 8, 8, 8, 10, 8, 8, 8, 19, 8, 11, 24, 20, 20, 8, 8, 7, 20, 8, 9, 20, 8, 10, 12, 25, 10, 17, 13, 10, 8, 9, 7, 8, 8, 8, 8, 10, 14, 11, 20, 20, 20, 15, 10, 9, 13, 9, 10, 11, 11, 11, 10, 10, 26, 26, 16, 14, 5, 19, 20, 11, 23, 20, 9, 9, 12, 6, 7, 6, 14, 9, 17, 8, 26, 40, 29, 18, 18, 18, 7, 19, 19, 12, 19, 11, 9, 10, 12, 17, 8, 14, 11, 10, 8, 14, 14, 10, 18, 33, 21, 20, 9, 9, 12, 14, 9, 12, 7, 5, 7, 9, 3, 4, 37, 44, 45, 49, 32, 32, 51, 58, 58, 51, 36, 46, 58, 34, 58, 58, 51, 25, 58, 58, 51, 41, 46, 31, 32, 58, 34, 58, 58, 58, 58, 58, 51, 58, 58, 34, 34, 58, 58, 58, 34, 58, 51, 51, 58, 58, 51, 58, 58, 58, 58, 58, 58, 58, 58, 51, 51, 32, 34, 58, 58, 58, 58, 58, 58, 58, 51, 58, 58, 58, 51, 51, 58, 58, 58, 58, 51, 58, 51, 41, 46, 46, 58, 58, 58, 51, 25, 32, 58, 58, 51, 58, 58, 58, 58, 58, 58, 58, 58, 58, 58, 32, 32, 51, 58, 58, 58, 58, 58, 58, 25, 58, 58, 58, 51, 61, 61, 58, 51, 58, 51, 58, 58, 58, 58, 51, 51, 51, 51, 51, 51, 58, 61, 58, 58, 51, 51, 36, 36, 51, 51, 51, 58, 58, 58, 58, 58, 51, 51, 51, 51, 58, 58, 58, 58, 25, 32, 51, 58, 58, 58, 51, 51, 58, 58, 58, 58, 58, 58, 58, 58, 51, 51, 58, 58, 58, 34, 34, 58, 58, 58, 58, 58, 58, 58, 61, 61, 58, 34, 34, 58, 58, 58, 58, 58, 58, 58, 58, 58, 58, 58, 58, 51, 51, 46, 46, 51, 58, 58, 58, 58, 58, 58, 51, 25, 51, 51, 51, 51, 58, 58, 58, 61, 51, 58, 58, 58, 51, 51, 58, 58, 61, 61, 51, 51, 51, 58, 58, 61, 58, 58, 58, 58, 58, 58, 58, 61, 58, 51, 51, 51, 51, 36, 36, 58, 58, 58, 61, 58, 34, 58, 58, 58, 58, 58, 58, 58, 58, 58, 58, 58, 51, 58, 58, 58, 61, 61, 58, 58, 58, 58, 51, 51, 58, 61, 58, 58, 61, 58, 58, 58, 58, 58, 58, 61, 61, 58, 58, 58, 61, 58, 58, 58, 58, 58, 51, 51, 58, 58, 34, 32, 58, 58, 51, 58, 58, 58, 58, 51, 58, 51, 58, 58, 58, 58, 58, 51, 58, 51, 51, 58, 58, 58, 61, 58, 46, 46, 46, 51, 51, 61, 58, 58, 58, 58, 58, 51, 51, 41, 58, 58, 61, 61, 58, 58, 58, 58, 58, 58, 58, 51, 51, 51, 51, 58, 58, 58, 51, 51, 58, 58, 58, 58, 58, 58, 58, 61, 61, 58, 51, 41, 51, 58, 58, 58, 58, 58, 58, 58, 51, 51, 58, 58, 58, 58, 58, 61, 58, 51, 51, 51, 61, 61, 61, 61, 61, 58, 58, 58, 58, 60, 60, 17, 61, 58, 51, 58, 58, 58, 51, 27, 21, 26, 45, 45, 45, 50, 40, 41, 41, 58, 58, 51, 51, 58, 58, 51, 35, 26, 30, 35, 45, 45, 45, 51, 58, 51, 58, 41, 58, 58, 58, 51, 51, 50, 57, 45, 45, 20, 33, 25, 50, 35, 35, 35, 48, 40, 46, 45, 35, 28, 25, 19, 24, 19, 36, 45, 30, 21, 25, 25, 16, 30, 26, 44, 26, 18, 24, 35, 22, 14, 28, 42, 38, 39, 28, 22, 26, 36, 34, 26, 15, 26, 26, 13, 8, 8, 25, 25, 27, 25, 23, 23, 27, 27, 37, 32, 24, 24, 17, 3, 6, 11, 9, 20, 9, 11, 8, 16, 8, 8, 8, 19, 20, 6, 6, 20, 27, 31, 20, 10, 20, 40, 18, 17, 16, 36, 36, 26, 12, 12, 28, 27, 26, 30, 27, 16, 8, 9, 11, 8, 7, 11, 17, 16, 14, 7, 7, 5, 3, 3, 4, 4, 4, 5, 4, 5, 3, 3, 3, 3, 3, 4, 4, 5, 3, 5, 4, 4, 4, 5, 5, 5, 3, 4, 3, 3, 3, 3, 5, 5, 4, 3, 3, 4, 3, 3, 4, 3, 5, 4, 3, 3, 3, 4, 4, 4, 3, 3, 3, 3, 3, 3, 3, 5, 5, 3, 3, 3, 5, 4, 4, 3, 3, 3, 3, 3, 4, 4, 4, 3, 4, 3, 3, 3, 3, 5, 3, 5, 5, 5, 3, 5, 3, 3, 4, 3, 5, 3, 3, 4, 4, 4, 4, 4, 4, 4, 4, 4, 3, 4, 3, 4, 4, 3, 5, 5, 4, 5, 4, 4, 3, 3, 4, 5, 3, 4, 4, 5, 3, 4, 3, 4, 4, 4, 4, 4, 3, 5, 3, 3, 5, 4, 3, 3, 3, 4, 5, 3, 3, 3, 3, 5, 5, 5, 4, 4, 3, 4, 3, 3, 3, 3, 3, 5, 4, 3, 3, 3, 3, 4, 4, 5, 4, 4, 5, 3, 3, 5, 5, 5, 3, 3, 3, 3, 4, 4, 3, 5, 3, 3, 4, 3, 3, 3, 4, 3, 3, 3, 4, 4, 3, 4, 3, 5, 5, 4, 4, 4, 4, 5, 5, 3, 3, 4, 4, 5, 3, 4, 4, 4, 5, 5, 5, 4, 4, 4, 3, 4, 4, 4, 5, 4, 4, 4, 4, 3, 4, 3, 4, 3, 4, 4, 4, 3, 4, 5, 3, 3, 4, 4, 3, 5, 3, 4, 3, 5, 5, 5, 4, 4, 4, 5, 3, 3, 4, 4, 3, 3, 3, 3, 5, 5, 5, 3, 3, 3, 3, 3, 3, 4, 5, 5, 3, 3, 5, 5, 5, 4, 4, 4, 3, 4, 4, 4, 5, 5, 5, 3, 3, 3, 4, 3, 3, 5, 4, 4, 5, 5, 3, 4, 3, 5, 5, 3, 4, 3, 3, 4, 3, 3, 3, 3, 3, 3, 3, 3, 3, 5, 3, 3, 3, 3, 4, 3, 4, 4, 3, 3, 3, 4, 4, 5, 3, 5, 4, 3, 3, 3, 3, 4, 4, 4, 5, 4, 4, 4, 3, 5, 5, 3, 4, 3, 3, 3, 4, 3, 3, 4, 5, 3, 3, 3, 5, 4, 3, 3, 3, 3, 3, 4, 5, 4, 3, 5, 4, 3, 4, 5, 3, 4, 4, 4, 5, 5, 5, 3, 4, 3, 4, 5, 5, 3, 5, 3, 3, 3, 3, 3, 5, 4, 3, 3, 3, 3, 4, 4, 3, 3, 4, 4, 4, 4, 4, 5, 3, 5, 5, 5, 4, 4, 3, 4, 3, 3, 4, 4, 4, 5, 4, 3, 3, 4, 5, 4, 5, 3, 4, 4, 5, 5, 5, 5, 5, 5, 4, 3, 3, 4, 4, 4, 3, 3, 3, 5]\n",
            "[7, 12, 19, 14, 19, 14, 11, 5, 6, 5, 10, 19, 13, 5, 9, 9, 6, 6, 7, 9, 26, 7, 14, 21, 7, 5, 11, 36, 13, 7, 10, 11, 18, 7, 27, 21, 16, 27, 6, 10, 6, 16, 18, 27, 30, 21, 6, 13, 26, 31, 27, 10, 14, 14, 19, 21, 24, 20, 31, 13, 28, 31, 31, 30, 29, 30, 23, 26, 25, 21, 13, 26, 19, 30, 18, 29, 32, 13, 20, 8, 24, 28, 32, 23, 13, 22, 28, 20, 17, 17, 27, 27, 27, 20, 11, 25, 32, 21, 24, 22, 16, 16, 23, 9, 6, 11, 13, 14, 18, 13, 9, 11, 26, 18, 18, 23, 26, 12, 27, 35, 30, 21, 25, 25, 12, 6, 21, 21, 39, 16, 10, 44, 35, 22, 33, 24, 29, 18, 16, 32, 18, 21, 31, 16, 22, 27, 19, 19, 16, 20, 10, 42, 21, 32, 19, 40, 32, 20, 6, 30, 32, 31, 31, 18, 30, 30, 34, 34, 31, 24, 21, 33, 31, 32, 32, 24, 31, 21, 37, 29, 15, 24, 27, 11, 19, 44, 47, 24, 40, 47, 35, 40, 26, 39, 41, 32, 25, 15, 6, 7, 42, 30, 26, 25, 31, 11, 22, 29, 33, 40, 30, 33, 42, 32, 31, 13, 17, 18, 29, 35, 31, 37, 32, 32, 18, 35, 24, 25, 30, 50, 40, 34, 39, 33, 30, 29, 27, 32, 28, 39, 14, 14, 21, 39, 53, 31, 32, 32, 25, 26, 34, 27, 33, 26, 24, 50, 49, 19, 35, 32, 37, 22, 46, 46, 50, 37, 50, 32, 29, 27, 35, 32, 27, 48, 37, 44, 40, 35, 35, 24, 46, 35, 23, 37, 33, 21, 7, 12, 40, 35, 47, 37, 23, 12, 32, 47, 26, 40, 46, 50, 50, 41, 47, 49, 33, 41, 50, 50, 47, 30, 52, 46, 50, 41, 17, 42, 46, 52, 42, 39, 42, 47, 52, 52, 52, 42, 52, 39, 46, 37, 37, 47, 47, 42, 52, 52, 27, 17, 23, 25, 30, 31, 50, 54, 54, 54, 42, 52, 53, 52, 42, 49, 52, 46, 40, 37, 48, 42, 52, 52, 44, 32, 30, 29, 23, 30, 32, 52, 52, 52, 52, 30, 41, 52, 42, 49, 52, 50, 46, 39, 35, 29, 17, 22, 46, 20, 47, 7, 25, 43, 50, 52, 52, 52, 52, 52, 62, 46, 47, 52, 43, 31, 33, 22, 52, 31, 35, 27, 22, 24, 43, 30, 38, 62, 62, 33, 28, 18, 27, 22, 35, 33, 24, 24, 27, 28, 22, 30, 42, 33, 43, 47, 38, 38, 52, 35, 40, 30, 31, 27, 38, 38, 40, 29, 38, 38, 47, 41, 27, 35, 33, 17, 24, 15, 39, 26, 33, 27, 34, 42, 39, 47, 38, 33, 43, 36, 38, 30, 38, 43, 31, 43, 38, 39, 30, 39, 38, 27, 34, 27, 47, 56, 56, 56, 38, 33, 42, 33, 42, 20, 42, 42, 42, 39, 32, 46, 39, 43, 27, 27, 17, 27, 39, 33, 23, 27, 42, 31, 30, 56, 42, 42, 47, 36, 40, 56, 50, 56, 51, 56, 56, 51, 31, 51, 42, 27, 23, 27, 42, 24, 42, 51, 32, 42, 42, 50, 25, 31, 27, 38, 24, 26, 27, 30, 30, 22, 25, 16, 16, 37, 33, 42, 37, 13, 24, 37, 50, 27, 27, 32, 25, 31, 31, 39, 27, 27, 16, 42, 20, 22, 20, 12, 23, 18, 12, 14, 11, 19, 15, 16, 42, 42, 42, 32, 32, 20, 51, 17, 32, 28, 42, 35, 39, 11, 42, 34, 26, 25, 25, 29, 32, 26, 25, 42, 32, 38, 22, 38, 39, 26, 39, 19, 39, 25, 38, 50, 29, 56, 24, 20, 8, 8, 20, 22, 10, 9, 16, 10, 8, 7, 5, 10, 11, 14, 24, 11, 10, 22, 15, 22, 14, 10, 15, 10, 10, 15, 24, 14, 14, 11, 34, 30, 17, 18, 13, 17, 18, 18, 13, 11, 13, 18, 13, 26, 34, 30, 18, 30, 24, 14, 15, 11, 8, 10, 18, 24, 18, 18, 26, 18, 10, 13, 25, 10, 25, 9, 18, 11, 11, 13, 18, 12, 13, 12, 18, 18, 13, 13, 13, 13, 24, 13, 18, 12, 12, 13, 18, 11, 12, 12, 11, 13, 17, 13, 13, 12, 16, 13, 13, 24, 18, 24, 13, 13, 18, 18, 11, 11, 11, 11, 11, 21, 18, 13, 11, 12, 19, 24, 15, 19, 20, 24, 11, 15, 24, 11, 11, 11, 11, 15, 12, 10, 10, 11, 11, 10, 11, 8, 14, 16, 10, 10, 14, 13, 9, 13, 8, 12, 9, 10, 10, 15, 15, 10, 11, 13, 4, 6, 9, 9, 13, 9, 27, 13, 18, 12, 14, 9, 12, 11, 8, 12, 13, 10, 10, 18, 13, 9, 10, 5, 8, 9, 6, 9, 13, 7, 18, 24, 12, 15, 22, 29, 32, 14, 8, 9, 6, 11, 19, 4, 7, 4, 11, 5, 9, 11, 5, 5, 4, 5, 4, 4, 4, 9, 5, 5, 3, 5, 4, 5, 10]\n"
          ]
        },
        {
          "data": {
            "application/vnd.google.colaboratory.intrinsic+json": {
              "type": "string"
            },
            "text/plain": [
              "'/content/resultados_fasta.zip'"
            ]
          },
          "execution_count": 2,
          "metadata": {},
          "output_type": "execute_result"
        }
      ],
      "source": [
        "# instalar diferentes paquetes\n",
        "from Bio import SeqIO, pairwise2\n",
        "from Bio.SeqRecord import SeqRecord\n",
        "from Bio.Seq import Seq\n",
        "from Bio import Align\n",
        "import os\n",
        "import shutil\n",
        "\n",
        "def read_abi(abi_file: str, reverse: bool): # creamos una nueva función\n",
        "# llamada read_abi, toma la ruta del archivo abi y reverse para indicar si debemos o no invertir la secuencia\n",
        "    records = SeqIO.parse(abi_file, \"abi\")\n",
        "    record = list(records)[0]\n",
        "    if reverse:\n",
        "        rev_record = record.reverse_complement()\n",
        "        rev_record.letter_annotations = {\n",
        "            'phred_quality': list(reversed(record.letter_annotations[\"phred_quality\"]))\n",
        "        }\n",
        "        rev_record.id = record.id\n",
        "        rev_record.description = 'reverse_complement'\n",
        "        record = rev_record\n",
        "\n",
        "    return record\n",
        "\n",
        "def make_consensus(aln, consensus_name): # otra funcion para crear el alineamiento\n",
        "    target_score_idx = 0\n",
        "    query_score_idx = 0\n",
        "    consensus_seq = '' # crea una cadena vacia para las consenso\n",
        "    print(aln.format(\"fasta\"))\n",
        "    print(aln.target.letter_annotations[\"phred_quality\"])\n",
        "    print(aln.query.letter_annotations[\"phred_quality\"])\n",
        "    # aln[0] is the target(la que se usa como referencia) and aln[1] is the query\n",
        "    for j in range(aln.length):\n",
        "        if aln[0][j] == aln[1][j]: # si las bases son iguales en las dos cadenas\n",
        "            consensus_seq += aln[0][j] # agrega esa base\n",
        "            query_score_idx += 1 # suma 1 al query score\n",
        "            target_score_idx += 1 # suma 1 al targ\n",
        "        elif aln[0][j] == '-': # si la target es tiene gap,\n",
        "            consensus_seq += aln[1][j] #   pon la de la query\n",
        "            query_score_idx +=1 # suma un punto al query\n",
        "        elif aln[1][j] == '-': # si es la query la que tiene gap\n",
        "            consensus_seq += aln[0][j] # pon la del target\n",
        "            target_score_idx += 1 # sumale un punto\n",
        "        else:\n",
        "            # si ambas son diferentes, comparo el phred_quality de la target, y de la query, y si el que sea\n",
        "            # mayor lo pongo, ########## ALERTA, SI ES MAYOR IGUAL LA target se pone\n",
        "            if aln.target.letter_annotations[\"phred_quality\"][target_score_idx] >= \\\n",
        "                    aln.query.letter_annotations[\"phred_quality\"][query_score_idx]:\n",
        "                consensus_seq += aln[0][j]\n",
        "            else:\n",
        "                consensus_seq += aln[1][j]\n",
        "\n",
        "            query_score_idx += 1 # sumammos\n",
        "            target_score_idx += 1 # sumamos\n",
        "\n",
        "    return SeqRecord(Seq(consensus_seq), id= consensus_name, description=\"\")\n",
        "\n",
        "# si quieres cambiar el archivo de salida\n",
        "output_folder = \"/content/resultados_fasta\" # los output van a esta carpeta\n",
        "os.makedirs(output_folder, exist_ok=True) # si no existe, la creo\n",
        "\n",
        "# crea lista vacia llamada forwards y reverse para almacenar las rutas de los archivos de secuencias\n",
        "forwards = []\n",
        "reverses = []\n",
        "\n",
        "# ================================================= IMPORTANTE: DONDE CAMBIAR NOMBRE DE DIRECTORIO Y CONDICION PARA ARCHIVOS ==============================================================\n",
        "\n",
        "\n",
        "seqs_dir = \"/content/EJEMPLO\" ### cambiar nombre si usas otro directorio\n",
        "### CAMBIAR CONDICION SI NOMBRE DE ARCHIVO ES DIFERENTE\n",
        "for f in os.listdir(seqs_dir): ## intera sobre los archivos en el directorio especificado (seqs_dir)\n",
        "    if f.count('_') == 2: # si el nombre del archivo contiene dos \"_\"\n",
        "        reverses.append(f'{seqs_dir}/{f}') # se considera reverse y se añade a la lista de reverse\n",
        "    else:\n",
        "        forwards.append(f'{seqs_dir}/{f}') # si no, forwards\n",
        "\n",
        "# se ordena alfabeticamente las listas\n",
        "forwards = sorted(forwards)\n",
        "reverses = sorted(reverses)\n",
        "\n",
        "if len(forwards) != len(reverses): # verifica si la cantidad de secuencias forward es igual que la de reverse, si no es\n",
        "# lanza un aviso, y para el script\n",
        "    raise Exception('The number of forward and reverse chromatograms must match!')\n",
        "\n",
        "aligner = Align.PairwiseAligner(scoring='blastn') # el scoring indica que se utiliza un esquema de puntuación similar al\n",
        "# utilizado en BLAST para alinear.\n",
        "\n",
        "consensuses = [] # crea una lista\n",
        "\n",
        "for i in range(len(forwards)): # itera sobre toda la longuitud de secuencias\n",
        "    forward_seq = read_abi(forwards[i], False) # lee el archivo abi y el parametro reverse lo pone en false para leer la secuencia normal.\n",
        "    reverse_seq = read_abi(reverses[i], True) # en este caso leera la secuencia en su orientacion inversa\n",
        "    aln = aligner.align(forward_seq, reverse_seq)[0] # alinea las seucncias, devuelve una lista de los alineamientos y se obtiene el primer alineamiento con el [0]\n",
        "\n",
        "    # Extraer el nombre común de las muestras\n",
        "    common_name = os.path.basename(forwards[i]).split('_')[0]\n",
        "    consensus_seq = make_consensus(aln, common_name)\n",
        "    consensuses.append(consensus_seq)\n",
        "\n",
        "    # Guardar archivo de consenso en formato FASTA con límite de 60 caracteres por línea\n",
        "    consensus_filename = os.path.join(output_folder,f'{common_name}_consensus.fasta')\n",
        "    with open(consensus_filename, 'w') as consensus_file:\n",
        "        consensus_file.write(f\">{consensus_seq.id}\\n\")\n",
        "        sequence = str(consensus_seq.seq)\n",
        "        for j in range(0, len(sequence), 60):\n",
        "            consensus_file.write(sequence[j:j+60] + '\\n')\n",
        "\n",
        "    # Guardar archivo de alineamiento en formato FASTA\n",
        "    aln_filename = os.path.join(output_folder, f'{common_name}_aln.fasta') # arhcivo alineamiento\n",
        "    with open(aln_filename, 'w') as f:\n",
        "        f.write(f\"{aln.format('fasta')}\")\n",
        "        f.write(f\">{consensus_seq.id}\\n\")\n",
        "        f.write(str(consensus_seq.seq))\n",
        "\n",
        "# Output FASTA file name\n",
        "consensuses_fasta = \"consensuses.fasta\" # Si quieres cambiar nombre del archivo final del consenso\n",
        "\n",
        "# Write each SeqRecord to the FASTA file\n",
        "with open(consensuses_fasta, \"w\") as output_handle: # write (genera un fichero nuevo aunq ya exista), r read, a append, coge un fichero y añade modificandolo\n",
        "    SeqIO.write(consensuses, output_handle, \"fasta\") #nuestra lista\n",
        "\n",
        "# Comprimir la carpeta resultados_fasta como un archivo zip\n",
        "shutil.make_archive(output_folder, 'zip', output_folder)\n"
      ]
    },
    {
      "cell_type": "markdown",
      "metadata": {
        "id": "5DDWBqqDiOa9"
      },
      "source": [
        "# Para interpretar el print:\n",
        "Los numeros que salen son el  **phred score**\n",
        "Como este score no cuenta los gaps y como ves, la primera secuencia tiene 8 gaps, para mirar el phred score del primer nucleotido (a) tendrias que mirar el primer numero (6), pero para la segunda secuencia tendrias que ir a la posición correspondiente de esa A que es la posicion  9 con un phred score de (5).\n",
        "\n",
        "Para la A de la posicion 3 phred (8), tendrias que ir con la posicion 10 del otro que seria (5).\n",
        "El que tenga el phred score más alto es el que gana y por tanto impone su nucleotido.\n",
        "!!!!!!!!!! CUIDADO PORQUE EN LA SECUENCIA DE ABAJO TAMBIEN SALTA  EL PHRED SCORE SI HAY UN GAP!!!!!!"
      ]
    }
  ],
  "metadata": {
    "colab": {
      "provenance": [],
      "include_colab_link": true
    },
    "kernelspec": {
      "display_name": "Python 3 (ipykernel)",
      "language": "python",
      "name": "python3"
    },
    "language_info": {
      "codemirror_mode": {
        "name": "ipython",
        "version": 3
      },
      "file_extension": ".py",
      "mimetype": "text/x-python",
      "name": "python",
      "nbconvert_exporter": "python",
      "pygments_lexer": "ipython3",
      "version": "3.11.5"
    }
  },
  "nbformat": 4,
  "nbformat_minor": 0
}